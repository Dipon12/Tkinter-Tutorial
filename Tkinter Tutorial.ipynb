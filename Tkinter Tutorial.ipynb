{
 "cells": [
  {
   "cell_type": "code",
   "execution_count": 1,
   "metadata": {},
   "outputs": [],
   "source": [
    "from tkinter import *"
   ]
  },
  {
   "cell_type": "code",
   "execution_count": 8,
   "metadata": {},
   "outputs": [],
   "source": [
    "root = Tk()\n",
    "\n",
    "myLabel1 = Label(root, text = \"Hello World!!\")\n",
    "myLabel2 = Label(root, text = \"My name is Dipon Talukder!!\")\n",
    "\n",
    "\n",
    "myLabel1.grid(row=0,column=0)\n",
    "myLabel2.grid(row=5,column=5)\n",
    "\n",
    "\n",
    "root.mainloop()\n"
   ]
  },
  {
   "cell_type": "markdown",
   "metadata": {},
   "source": [
    "# Button"
   ]
  },
  {
   "cell_type": "code",
   "execution_count": 9,
   "metadata": {},
   "outputs": [],
   "source": [
    "root = Tk()\n",
    "\n",
    "def myfunc():\n",
    "    #print(\"You Clicked it!\") This outputs below...not in the tkinter GUI\n",
    "    \n",
    "    myLabel= Label(root, text=\"You CLicked it\")\n",
    "    myLabel.pack()\n",
    "\n",
    "\n",
    "\n",
    "myButton = Button(root, text = \"Click Me!!\" ,command=myfunc, padx='50', fg=\"Green\" , bg= \"White\")\n",
    "myButton.pack()\n",
    "root.mainloop()"
   ]
  },
  {
   "cell_type": "markdown",
   "metadata": {},
   "source": [
    "# Entry Field"
   ]
  },
  {
   "cell_type": "code",
   "execution_count": 10,
   "metadata": {},
   "outputs": [],
   "source": [
    "root = Tk()\n",
    "\n",
    "e=Entry(root, width=50,borderwidth=5, fg=\"#000000\",bg=\"#ff77ff\" )\n",
    "e.pack()\n",
    "\n",
    "def myfunc():\n",
    "    #print(\"You Clicked it!\") This outputs below...not in the tkinter GUI\n",
    "    \n",
    "    myLabel= Label(root, text=\"Welcome \" + e.get())\n",
    "    myLabel.pack()\n",
    "\n",
    "\n",
    "\n",
    "myButton = Button(root, text = \"Enter Your Name!!\" ,command=myfunc, padx='50', fg=\"Green\" , bg= \"White\")\n",
    "myButton.pack()\n",
    "root.mainloop()"
   ]
  },
  {
   "cell_type": "markdown",
   "metadata": {},
   "source": [
    "# Simple Calculator\n"
   ]
  },
  {
   "cell_type": "code",
   "execution_count": 27,
   "metadata": {},
   "outputs": [],
   "source": [
    "root = Tk()\n",
    "\n",
    "e=Entry(root,width=50,borderwidth=5)\n",
    "e.grid(row=0,column=0,columnspan=3,padx=10,pady=10)\n",
    "\n",
    "def button_click(number):\n",
    "    current=e.get()\n",
    "    e.delete(0,END)\n",
    "    e.insert(0,str(current) + str(number))\n",
    "\n",
    "def button_clear():\n",
    "    e.delete(0,END)\n",
    "\n",
    "def button_add():\n",
    "    first_number = e.get()\n",
    "    global f_num\n",
    "    f_num=int(first_number)\n",
    "    e.delete(0,END)\n",
    "\n",
    "def button_equal():\n",
    "    second_number = e.get()\n",
    "    e.delete(0,END)\n",
    "    e.insert(0,f_num+int(second_number))\n",
    "    return\n",
    "\n",
    "#Button Creation\n",
    "button_1=Button(root,text='1', padx=40 , pady =40, command=lambda: button_click(1))\n",
    "button_2=Button(root,text='2', padx=40 , pady =40,command=lambda: button_click(2))\n",
    "button_3=Button(root,text='3', padx=40 , pady =40,command=lambda: button_click(3))\n",
    "button_4=Button(root,text='4', padx=40 , pady =40,command=lambda: button_click(4))\n",
    "button_5=Button(root,text='5', padx=40 , pady =40,command=lambda: button_click(5))\n",
    "button_6=Button(root,text='6', padx=40 , pady =40,command=lambda: button_click(6))\n",
    "button_7=Button(root,text='7', padx=40 , pady =40,command=lambda: button_click(7))\n",
    "button_8=Button(root,text='8', padx=40 , pady =40,command=lambda: button_click(8))\n",
    "button_9=Button(root,text='9', padx=40 , pady =40,command=lambda: button_click(9))\n",
    "button_0=Button(root,text='0', padx=40 , pady =40,command=lambda: button_click(0))\n",
    "button_equal=Button(root,text='=', padx=80 , pady =40,command=button_equal)\n",
    "button_add=Button(root,text='+', padx=40 , pady =40,command=button_add)\n",
    "button_clear=Button(root,text='Clear', padx=80 , pady =40,command=button_click)\n",
    "\n",
    "#Button Show\n",
    "button_1.grid(row=3,column=0)\n",
    "button_2.grid(row=3,column=1)\n",
    "button_3.grid(row=3,column=2)\n",
    "button_4.grid(row=2,column=0)\n",
    "button_5.grid(row=2,column=1)\n",
    "button_6.grid(row=2,column=2)\n",
    "button_7.grid(row=1,column=0)\n",
    "button_8.grid(row=1,column=1)\n",
    "button_9.grid(row=1,column=2)\n",
    "button_0.grid(row=4,column=0)\n",
    "button_equal.grid(row=4,column=1, columnspan= 2)\n",
    "button_add.grid(row=5,column=0)\n",
    "button_clear.grid(row=5,column=1, columnspan=2)\n",
    "\n",
    "\n",
    "\n",
    "\n",
    "root.mainloop()"
   ]
  },
  {
   "cell_type": "markdown",
   "metadata": {},
   "source": [
    "# Radio Button\n"
   ]
  },
  {
   "cell_type": "code",
   "execution_count": 8,
   "metadata": {},
   "outputs": [],
   "source": [
    "root = Tk()\n",
    "\n",
    "root.title(\"Learning Tkinter\")\n",
    "root.iconbitmap(\"icon.ico\")\n",
    "\n",
    "#r=IntVar()\n",
    "r=StringVar()\n",
    "r.set(\"Pepperoni\")\n",
    "\n",
    "MODES =[\n",
    "    (\"Pepperoni\",\"Pepperoni\"),\n",
    "    (\"Cheese\",\"Cheese\"),\n",
    "    (\"Onion\",\"Onion\")\n",
    "]\n",
    "\n",
    "for text,mode in MODES:\n",
    "    Radiobutton(root,text=text,variable=r,value=mode,command= lambda: clicked(r.get)).pack(anchor=W)\n",
    "\n",
    "\n",
    "def clicked(value):\n",
    "    myLabel= Label (root,text=\"Clicked \" + str(value))\n",
    "    myLabel.pack()\n",
    "\n",
    "#Radiobutton(root, text = \"Option 1\",variable =r, value = 1,command= lambda: clicked(r.get()) ).pack()\n",
    "#Radiobutton(root, text = \"Option 2\",variable =r, value = 2,command= lambda: clicked(r.get()) ).pack()\n",
    "\n",
    "myButton=Button(root,text=\"Click Me!\", command = lambda:clicked(r.get()) )\n",
    "myButton.pack()\n",
    "\n",
    "mainloop()"
   ]
  },
  {
   "cell_type": "markdown",
   "metadata": {},
   "source": [
    "# Message Dialog Box"
   ]
  },
  {
   "cell_type": "code",
   "execution_count": 2,
   "metadata": {},
   "outputs": [],
   "source": [
    "from tkinter import messagebox\n",
    "root=Tk()\n",
    "root.title(\"My project works\")\n",
    "root.iconbitmap('icon.ico')\n",
    "\n",
    "#showinfo, showwarning, showerror, askquestion, askokcancel, askyesno\n",
    "\n",
    "def popup():\n",
    "    response=messagebox.showwarning(\"This is my popup!\" , \"Hello World...\")\n",
    "    mylabel=Label(root,text=response).pack()\n",
    "    \n",
    "    #if response==\"Yes\":\n",
    "     #   Label(root,text=\"Clicked Yes!!\").pack()\n",
    "    #else:\n",
    "     #   Label(root,text=\"Clicked No!!\"),pack()\n",
    "    \n",
    "\n",
    "mybutton= Button(root,text=\"Click Me!!!\",command = popup).pack()\n",
    "\n",
    "\n",
    "\n",
    "mainloop()"
   ]
  },
  {
   "cell_type": "markdown",
   "metadata": {},
   "source": [
    "# Open File DialogBox\n"
   ]
  },
  {
   "cell_type": "code",
   "execution_count": 6,
   "metadata": {},
   "outputs": [],
   "source": [
    "from tkinter import filedialog\n",
    "from PIL import ImageTk,Image\n",
    "\n",
    "root=Tk()\n",
    "root.title(\"Tkinter Tutorial\")\n",
    "root.iconbitmap(\"icon.ico\")\n",
    "\n",
    "\n",
    "def opn():\n",
    "    root.filename=filedialog.askopenfilename(initialdir=\"/Downloads\",title=\"Select a file\",filetypes=((\"jpg files\",\"*.jpg\"),(\"All files\",\"*.*\")))\n",
    "    mylabel=Label(root,text=root.filename).pack()\n",
    "    \n",
    "\n",
    "mybtn=Button(root,text=\"Select a file\",command=opn).pack()\n",
    "mainloop()"
   ]
  },
  {
   "cell_type": "markdown",
   "metadata": {},
   "source": [
    "# Create New Window"
   ]
  },
  {
   "cell_type": "code",
   "execution_count": null,
   "metadata": {},
   "outputs": [],
   "source": []
  },
  {
   "cell_type": "markdown",
   "metadata": {},
   "source": [
    "# Sliders"
   ]
  },
  {
   "cell_type": "code",
   "execution_count": 9,
   "metadata": {},
   "outputs": [
    {
     "name": "stderr",
     "output_type": "stream",
     "text": [
      "Exception in Tkinter callback\n",
      "Traceback (most recent call last):\n",
      "  File \"C:\\Users\\Dhrubo\\Anaconda3\\lib\\tkinter\\__init__.py\", line 1705, in __call__\n",
      "    return self.func(*args)\n",
      "  File \"<ipython-input-9-0adb008a15fd>\", line 7, in slide\n",
      "    root.geometry( str(vertical.get())+ \"x400\")\n",
      "TypeError: 'str' object is not callable\n",
      "Exception in Tkinter callback\n",
      "Traceback (most recent call last):\n",
      "  File \"C:\\Users\\Dhrubo\\Anaconda3\\lib\\tkinter\\__init__.py\", line 1705, in __call__\n",
      "    return self.func(*args)\n",
      "  File \"<ipython-input-9-0adb008a15fd>\", line 7, in slide\n",
      "    root.geometry( str(vertical.get())+ \"x400\")\n",
      "TypeError: 'str' object is not callable\n",
      "Exception in Tkinter callback\n",
      "Traceback (most recent call last):\n",
      "  File \"C:\\Users\\Dhrubo\\Anaconda3\\lib\\tkinter\\__init__.py\", line 1705, in __call__\n",
      "    return self.func(*args)\n",
      "  File \"<ipython-input-9-0adb008a15fd>\", line 7, in slide\n",
      "    root.geometry( str(vertical.get())+ \"x400\")\n",
      "TypeError: 'str' object is not callable\n",
      "Exception in Tkinter callback\n",
      "Traceback (most recent call last):\n",
      "  File \"C:\\Users\\Dhrubo\\Anaconda3\\lib\\tkinter\\__init__.py\", line 1705, in __call__\n",
      "    return self.func(*args)\n",
      "  File \"<ipython-input-9-0adb008a15fd>\", line 7, in slide\n",
      "    root.geometry( str(vertical.get())+ \"x400\")\n",
      "TypeError: 'str' object is not callable\n",
      "Exception in Tkinter callback\n",
      "Traceback (most recent call last):\n",
      "  File \"C:\\Users\\Dhrubo\\Anaconda3\\lib\\tkinter\\__init__.py\", line 1705, in __call__\n",
      "    return self.func(*args)\n",
      "  File \"<ipython-input-9-0adb008a15fd>\", line 7, in slide\n",
      "    root.geometry( str(vertical.get())+ \"x400\")\n",
      "TypeError: 'str' object is not callable\n",
      "Exception in Tkinter callback\n",
      "Traceback (most recent call last):\n",
      "  File \"C:\\Users\\Dhrubo\\Anaconda3\\lib\\tkinter\\__init__.py\", line 1705, in __call__\n",
      "    return self.func(*args)\n",
      "  File \"<ipython-input-9-0adb008a15fd>\", line 7, in slide\n",
      "    root.geometry( str(vertical.get())+ \"x400\")\n",
      "TypeError: 'str' object is not callable\n",
      "Exception in Tkinter callback\n",
      "Traceback (most recent call last):\n",
      "  File \"C:\\Users\\Dhrubo\\Anaconda3\\lib\\tkinter\\__init__.py\", line 1705, in __call__\n",
      "    return self.func(*args)\n",
      "  File \"<ipython-input-9-0adb008a15fd>\", line 7, in slide\n",
      "    root.geometry( str(vertical.get())+ \"x400\")\n",
      "TypeError: 'str' object is not callable\n",
      "Exception in Tkinter callback\n",
      "Traceback (most recent call last):\n",
      "  File \"C:\\Users\\Dhrubo\\Anaconda3\\lib\\tkinter\\__init__.py\", line 1705, in __call__\n",
      "    return self.func(*args)\n",
      "  File \"<ipython-input-9-0adb008a15fd>\", line 7, in slide\n",
      "    root.geometry( str(vertical.get())+ \"x400\")\n",
      "TypeError: 'str' object is not callable\n",
      "Exception in Tkinter callback\n",
      "Traceback (most recent call last):\n",
      "  File \"C:\\Users\\Dhrubo\\Anaconda3\\lib\\tkinter\\__init__.py\", line 1705, in __call__\n",
      "    return self.func(*args)\n",
      "  File \"<ipython-input-9-0adb008a15fd>\", line 7, in slide\n",
      "    root.geometry( str(vertical.get())+ \"x400\")\n",
      "TypeError: 'str' object is not callable\n"
     ]
    }
   ],
   "source": [
    "root = Tk()\n",
    "root.title(\"Project Works\")\n",
    "root.iconbitmap(\"icon.ico\")\n",
    "root.geometry=(\"400x400\")\n",
    "\n",
    "def slide():\n",
    "    root.geometry( str(vertical.get())+ \"x400\")\n",
    "\n",
    "vertical= Scale(root,from_=0, to=400)\n",
    "vertical.pack()\n",
    "\n",
    "horizontal =Scale(root,from_=0, to=400, orient= HORIZONTAL)\n",
    "horizontal.pack()\n",
    "\n",
    "mybtn=Button(root,text=\"Click me!\",command=slide).pack()\n",
    "\n",
    "root.mainloop()"
   ]
  },
  {
   "cell_type": "markdown",
   "metadata": {},
   "source": [
    "# Checkboxes"
   ]
  },
  {
   "cell_type": "code",
   "execution_count": 7,
   "metadata": {},
   "outputs": [],
   "source": [
    "root = Tk()\n",
    "root.title(\"Project Works\")\n",
    "root.iconbitmap(\"icon.ico\")\n",
    "root.geometry=(\"400x400\")\n",
    "\n",
    "var=StringVar()\n",
    "\n",
    "def show():\n",
    "    mylabel= Label(root,text=var.get()).pack()\n",
    "\n",
    "c = Checkbutton(root,text=\"This is a Checkbutton\",variable=var,onvalue=\"Pizza\",offvalue=\"Burger\")\n",
    "c.deselect()\n",
    "c.pack()\n",
    "\n",
    "mybtn= Button(root, text= \"You clicked it!!\",command=show).pack()\n",
    " \n",
    "\n",
    "root.mainloop()\n"
   ]
  },
  {
   "cell_type": "markdown",
   "metadata": {},
   "source": [
    "# DropDown Menus"
   ]
  },
  {
   "cell_type": "code",
   "execution_count": 2,
   "metadata": {},
   "outputs": [],
   "source": [
    "root=Tk()\n",
    "root.title(\"Project Works\")\n",
    "root.iconbitmap(\"icon.ico\")\n",
    "root.geometry(\"500x500\")\n",
    "\n",
    "var=StringVar()\n",
    "var.set(\"Monday\") #tkinter variables can only be set and get\n",
    "\n",
    "options=[\"Monday\",\"Tuesday\",\"Wednesday\",\"Thursday\",\"Friday\"]\n",
    "\n",
    "dropdown=OptionMenu(root,var,*options)\n",
    "dropdown.pack()\n",
    "\n",
    "def click():\n",
    "    label=Label(root,text=var.get()).pack()\n",
    "\n",
    "button=Button(root,text=\"Click Me!\",command=click).pack()\n",
    "\n",
    "\n",
    "root.mainloop()"
   ]
  },
  {
   "cell_type": "markdown",
   "metadata": {},
   "source": [
    "# Connecting IBM API"
   ]
  },
  {
   "cell_type": "code",
   "execution_count": 4,
   "metadata": {},
   "outputs": [],
   "source": [
    "import json\n",
    "import requests\n",
    "\n",
    "root=Tk()\n",
    "root.title(\"Chatbot\")\n",
    "root.iconbitmap(\"icon.ico\")\n",
    "root.geometry(\"1000x1000\")\n",
    "\n",
    "#https://api.eu-gb.assistant.watson.cloud.ibm.com/instances/46fe10c6-2b14-4816-8dc9-f0d82a659b55\n",
    "#apikey: {bqnoR8Sfm7G0wTs0oEdZUk5B_B1hSfp3YDbZqgnngNkQ}\n",
    "\n",
    "try:\n",
    "    api_requests = requests.get(\"https://api.eu-gb.assistant.watson.cloud.ibm.com/instances/46fe10c6-2b14-4816-8dc9-f0d82a659b55\")\n",
    "    api = json.loads(api_requests.content)\n",
    "except Exception as ex:\n",
    "    api = \"Error...\"\n",
    "    \n",
    "mylabel = Label(root, text = api).pack()\n",
    "\n",
    "\n",
    "\n",
    "root.mainloop()"
   ]
  },
  {
   "cell_type": "code",
   "execution_count": null,
   "metadata": {},
   "outputs": [],
   "source": []
  }
 ],
 "metadata": {
  "kernelspec": {
   "display_name": "Python 3",
   "language": "python",
   "name": "python3"
  },
  "language_info": {
   "codemirror_mode": {
    "name": "ipython",
    "version": 3
   },
   "file_extension": ".py",
   "mimetype": "text/x-python",
   "name": "python",
   "nbconvert_exporter": "python",
   "pygments_lexer": "ipython3",
   "version": "3.7.3"
  }
 },
 "nbformat": 4,
 "nbformat_minor": 2
}
